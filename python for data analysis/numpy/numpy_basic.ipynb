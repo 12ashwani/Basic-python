{
 "cells": [
  {
   "cell_type": "code",
   "execution_count": 1,
   "metadata": {},
   "outputs": [],
   "source": [
    "import numpy as np"
   ]
  },
  {
   "cell_type": "code",
   "execution_count": 4,
   "metadata": {},
   "outputs": [
    {
     "name": "stdout",
     "output_type": "stream",
     "text": [
      "[1 2 3 4]\n",
      "(4,)\n"
     ]
    }
   ],
   "source": [
    "# creatting the one d array\n",
    "arr1=np.array([1,2,3,4])\n",
    "print(arr1)\n",
    "print(arr1.shape)"
   ]
  },
  {
   "cell_type": "code",
   "execution_count": null,
   "metadata": {},
   "outputs": [
    {
     "name": "stdout",
     "output_type": "stream",
     "text": [
      "(4,)\n"
     ]
    }
   ],
   "source": [
    "arr2=np.array([1,2,3,4])\n",
    "arr2.reshape(1,4) # 1 and 5 columns"
   ]
  },
  {
   "cell_type": "code",
   "execution_count": 10,
   "metadata": {},
   "outputs": [
    {
     "name": "stdout",
     "output_type": "stream",
     "text": [
      "[[1 2 3 4]]\n"
     ]
    }
   ],
   "source": [
    "arr2=np.array([[1,2,3,4]])\n",
    "print(arr2)\n"
   ]
  },
  {
   "cell_type": "code",
   "execution_count": 12,
   "metadata": {},
   "outputs": [
    {
     "name": "stdout",
     "output_type": "stream",
     "text": [
      "[[1 2 3 4]\n",
      " [4 6 8 9]]\n",
      "(2, 4)\n"
     ]
    }
   ],
   "source": [
    "arr2=np.array([[1,2,3,4],[4,6,8,9]])\n",
    "print(arr2)\n",
    "print(arr2.shape)\n"
   ]
  },
  {
   "cell_type": "code",
   "execution_count": null,
   "metadata": {},
   "outputs": [
    {
     "data": {
      "text/plain": [
       "array([1, 3, 5, 7, 9])"
      ]
     },
     "execution_count": 17,
     "metadata": {},
     "output_type": "execute_result"
    }
   ],
   "source": [
    "## creating the arraye by the help of the inbuilt function \n",
    "np.arange(1,10,2)"
   ]
  },
  {
   "cell_type": "code",
   "execution_count": 20,
   "metadata": {},
   "outputs": [
    {
     "data": {
      "text/plain": [
       "array([[1, 3, 5, 7, 9]])"
      ]
     },
     "execution_count": 20,
     "metadata": {},
     "output_type": "execute_result"
    }
   ],
   "source": [
    "np.arange(1,10,2).reshape(1,5)"
   ]
  },
  {
   "cell_type": "code",
   "execution_count": 25,
   "metadata": {},
   "outputs": [
    {
     "data": {
      "text/plain": [
       "array([[1., 1., 1., 1., 1.],\n",
       "       [1., 1., 1., 1., 1.]])"
      ]
     },
     "execution_count": 25,
     "metadata": {},
     "output_type": "execute_result"
    }
   ],
   "source": [
    "# creating the ones array \n",
    "np.ones((2,5))"
   ]
  },
  {
   "cell_type": "code",
   "execution_count": 29,
   "metadata": {},
   "outputs": [
    {
     "data": {
      "text/plain": [
       "array([[1., 0., 0., 0., 0.],\n",
       "       [0., 1., 0., 0., 0.],\n",
       "       [0., 0., 1., 0., 0.],\n",
       "       [0., 0., 0., 1., 0.],\n",
       "       [0., 0., 0., 0., 1.]])"
      ]
     },
     "execution_count": 29,
     "metadata": {},
     "output_type": "execute_result"
    }
   ],
   "source": [
    "# crating the dingonal value one by the help of the eye function \n",
    "np.eye(5,5)"
   ]
  },
  {
   "cell_type": "code",
   "execution_count": 32,
   "metadata": {},
   "outputs": [
    {
     "name": "stdout",
     "output_type": "stream",
     "text": [
      "add the array elements [ 4  8 14 14 11 11]\n",
      "add the array elements [-2 -2 -4  4 -1  1]\n",
      "add the array elements [ 3 15 45 45 30 30]\n",
      "add the array elements [0.33333333 0.6        0.55555556 1.8        0.83333333 1.2       ]\n"
     ]
    }
   ],
   "source": [
    "# n8mpy vectorised array opertion\n",
    "arr1=np.array([1,3,5,9,5,6])\n",
    "arr2=np.array([3,5,9,5,6,5])\n",
    "print('add the array elements',arr1+arr2)\n",
    "print('add the array elements',arr1-arr2)\n",
    "print('add the array elements',arr1*arr2)\n",
    "print('add the array elements',arr1/arr2)\n",
    "\n"
   ]
  },
  {
   "cell_type": "code",
   "execution_count": 34,
   "metadata": {},
   "outputs": [
    {
     "name": "stdout",
     "output_type": "stream",
     "text": [
      "[1.41421356 1.73205081 2.         2.23606798 2.44948974 2.64575131]\n",
      "[0.69314718 1.09861229 1.38629436 1.60943791 1.79175947 1.94591015]\n",
      "[ 0.90929743  0.14112001 -0.7568025  -0.95892427 -0.2794155   0.6569866 ]\n"
     ]
    }
   ],
   "source": [
    "## Using the some Universal function \n",
    "arr1=np.array([2,3,4,5,6,7])\n",
    "print(np.sqrt(arr1))\n",
    "print(np.log(arr1))\n",
    "print(np.sin(arr1))"
   ]
  },
  {
   "cell_type": "code",
   "execution_count": 35,
   "metadata": {},
   "outputs": [
    {
     "name": "stdout",
     "output_type": "stream",
     "text": [
      "[[1 2 3 4]\n",
      " [2 4 6 8]\n",
      " [1 3 5 7]]\n"
     ]
    }
   ],
   "source": [
    "## Indexing and the sciling used nto the numpy \n",
    "arr1=np.array([[1,2,3,4],[2,4,6,8],[1,3,5,7]])\n",
    "print(arr1)"
   ]
  },
  {
   "cell_type": "code",
   "execution_count": 41,
   "metadata": {},
   "outputs": [
    {
     "name": "stdout",
     "output_type": "stream",
     "text": [
      "4\n"
     ]
    }
   ],
   "source": [
    "# print(arr1[row][colum])\n",
    "print(arr1[0][3])"
   ]
  },
  {
   "cell_type": "code",
   "execution_count": 42,
   "metadata": {},
   "outputs": [
    {
     "name": "stdout",
     "output_type": "stream",
     "text": [
      "Normalization data [-1.41421356 -0.70710678  0.          0.70710678  1.41421356]\n"
     ]
    }
   ],
   "source": [
    "## Statistical concept Normalization\n",
    "## the mean of the data is 0 and stv is 1 \n",
    "data=np.array([1,2,3,4,5])\n",
    "## calculating the mean of the data \n",
    "mean=np.mean(data)\n",
    "# calculating the stanared daviation of the data\n",
    "std_data=np.std(data)\n",
    "## Normalization data \n",
    "normalized_data=(data-mean)/std_data\n",
    "print('Normalization data',normalized_data)\n"
   ]
  },
  {
   "cell_type": "code",
   "execution_count": 47,
   "metadata": {},
   "outputs": [
    {
     "name": "stdout",
     "output_type": "stream",
     "text": [
      "Mean 3.0\n",
      "Median 3.0\n",
      "Variance 2.0\n",
      "Standersd Deviation 1.4142135623730951\n"
     ]
    }
   ],
   "source": [
    "data=np.array([1,2,3,4,5])\n",
    "\n",
    "mean=np.mean(data)\n",
    "print('Mean',mean)\n",
    "# calculating median \n",
    "median=np.median(data)\n",
    "print('Median',median)\n",
    "# calculating the mode\n",
    "# print('Mode',np.mod(data))\n",
    "#Calculating the variance and standerd Devince\n",
    "print('Variance',np.var(data))\n",
    "# calculating the standerd deviation \n",
    "print('Standersd Deviation',np.std(data))"
   ]
  },
  {
   "cell_type": "code",
   "execution_count": null,
   "metadata": {},
   "outputs": [],
   "source": []
  }
 ],
 "metadata": {
  "kernelspec": {
   "display_name": "Python 3",
   "language": "python",
   "name": "python3"
  },
  "language_info": {
   "codemirror_mode": {
    "name": "ipython",
    "version": 3
   },
   "file_extension": ".py",
   "mimetype": "text/x-python",
   "name": "python",
   "nbconvert_exporter": "python",
   "pygments_lexer": "ipython3",
   "version": "3.11.7"
  }
 },
 "nbformat": 4,
 "nbformat_minor": 2
}

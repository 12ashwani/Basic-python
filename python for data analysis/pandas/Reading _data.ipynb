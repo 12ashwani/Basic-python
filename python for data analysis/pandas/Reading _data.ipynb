{
 "cells": [
  {
   "cell_type": "code",
   "execution_count": 7,
   "metadata": {},
   "outputs": [
    {
     "name": "stdout",
     "output_type": "stream",
     "text": [
      "JSON data saved!\n"
     ]
    }
   ],
   "source": [
    "import json\n",
    "import pandas as pd \n",
    "# Sample JSON data as a Python dictionary\n",
    "data = {\n",
    "    \"employees\": [\n",
    "        {\"id\": 1, \"name\": \"Alice\", \"age\": 25, \"department\": \"HR\"},\n",
    "        {\"id\": 2, \"name\": \"Bob\", \"age\": 30, \"department\": \"Finance\"},\n",
    "        {\"id\": 3, \"name\": \"Charlie\", \"age\": 28, \"department\": \"IT\"},\n",
    "    ],\n",
    "    \"company\": \"TechCorp\",\n",
    "    \"location\": \"New York\"\n",
    "}\n",
    "\n",
    "# Convert to JSON string\n",
    "json_data = json.dumps(data, indent=4)\n",
    "\n",
    "# Save to a JSON file\n",
    "with open('sample_data.json', 'w') as file:\n",
    "    file.write(json_data)\n",
    "\n",
    "print(\"JSON data saved!\")\n"
   ]
  },
  {
   "cell_type": "code",
   "execution_count": 8,
   "metadata": {},
   "outputs": [
    {
     "name": "stdout",
     "output_type": "stream",
     "text": [
      "{'employees': [{'id': 1, 'name': 'Alice', 'age': 25, 'department': 'HR'}, {'id': 2, 'name': 'Bob', 'age': 30, 'department': 'Finance'}, {'id': 3, 'name': 'Charlie', 'age': 28, 'department': 'IT'}], 'company': 'TechCorp', 'location': 'New York'}\n"
     ]
    }
   ],
   "source": [
    "# Load JSON data from the file\n",
    "with open('sample_data.json', 'r') as file:\n",
    "    loaded_data = json.load(file)\n",
    "\n",
    "# Print loaded JSON data\n",
    "print(loaded_data)\n"
   ]
  },
  {
   "cell_type": "code",
   "execution_count": 9,
   "metadata": {},
   "outputs": [
    {
     "data": {
      "text/html": [
       "<div>\n",
       "<style scoped>\n",
       "    .dataframe tbody tr th:only-of-type {\n",
       "        vertical-align: middle;\n",
       "    }\n",
       "\n",
       "    .dataframe tbody tr th {\n",
       "        vertical-align: top;\n",
       "    }\n",
       "\n",
       "    .dataframe thead th {\n",
       "        text-align: right;\n",
       "    }\n",
       "</style>\n",
       "<table border=\"1\" class=\"dataframe\">\n",
       "  <thead>\n",
       "    <tr style=\"text-align: right;\">\n",
       "      <th></th>\n",
       "      <th>employees</th>\n",
       "      <th>company</th>\n",
       "      <th>location</th>\n",
       "    </tr>\n",
       "  </thead>\n",
       "  <tbody>\n",
       "    <tr>\n",
       "      <th>0</th>\n",
       "      <td>{'id': 1, 'name': 'Alice', 'age': 25, 'departm...</td>\n",
       "      <td>TechCorp</td>\n",
       "      <td>New York</td>\n",
       "    </tr>\n",
       "    <tr>\n",
       "      <th>1</th>\n",
       "      <td>{'id': 2, 'name': 'Bob', 'age': 30, 'departmen...</td>\n",
       "      <td>TechCorp</td>\n",
       "      <td>New York</td>\n",
       "    </tr>\n",
       "    <tr>\n",
       "      <th>2</th>\n",
       "      <td>{'id': 3, 'name': 'Charlie', 'age': 28, 'depar...</td>\n",
       "      <td>TechCorp</td>\n",
       "      <td>New York</td>\n",
       "    </tr>\n",
       "  </tbody>\n",
       "</table>\n",
       "</div>"
      ],
      "text/plain": [
       "                                           employees   company  location\n",
       "0  {'id': 1, 'name': 'Alice', 'age': 25, 'departm...  TechCorp  New York\n",
       "1  {'id': 2, 'name': 'Bob', 'age': 30, 'departmen...  TechCorp  New York\n",
       "2  {'id': 3, 'name': 'Charlie', 'age': 28, 'depar...  TechCorp  New York"
      ]
     },
     "execution_count": 9,
     "metadata": {},
     "output_type": "execute_result"
    }
   ],
   "source": [
    "pd.read_json('sample_data.json',)"
   ]
  },
  {
   "cell_type": "code",
   "execution_count": 10,
   "metadata": {},
   "outputs": [
    {
     "data": {
      "text/html": [
       "<div>\n",
       "<style scoped>\n",
       "    .dataframe tbody tr th:only-of-type {\n",
       "        vertical-align: middle;\n",
       "    }\n",
       "\n",
       "    .dataframe tbody tr th {\n",
       "        vertical-align: top;\n",
       "    }\n",
       "\n",
       "    .dataframe thead th {\n",
       "        text-align: right;\n",
       "    }\n",
       "</style>\n",
       "<table border=\"1\" class=\"dataframe\">\n",
       "  <thead>\n",
       "    <tr style=\"text-align: right;\">\n",
       "      <th></th>\n",
       "      <th>id</th>\n",
       "      <th>name</th>\n",
       "      <th>age</th>\n",
       "      <th>department</th>\n",
       "    </tr>\n",
       "  </thead>\n",
       "  <tbody>\n",
       "    <tr>\n",
       "      <th>0</th>\n",
       "      <td>1</td>\n",
       "      <td>Alice</td>\n",
       "      <td>25</td>\n",
       "      <td>HR</td>\n",
       "    </tr>\n",
       "    <tr>\n",
       "      <th>1</th>\n",
       "      <td>2</td>\n",
       "      <td>Bob</td>\n",
       "      <td>30</td>\n",
       "      <td>Finance</td>\n",
       "    </tr>\n",
       "    <tr>\n",
       "      <th>2</th>\n",
       "      <td>3</td>\n",
       "      <td>Charlie</td>\n",
       "      <td>28</td>\n",
       "      <td>IT</td>\n",
       "    </tr>\n",
       "  </tbody>\n",
       "</table>\n",
       "</div>"
      ],
      "text/plain": [
       "   id     name  age department\n",
       "0   1    Alice   25         HR\n",
       "1   2      Bob   30    Finance\n",
       "2   3  Charlie   28         IT"
      ]
     },
     "execution_count": 10,
     "metadata": {},
     "output_type": "execute_result"
    }
   ],
   "source": [
    "df = pd.DataFrame(loaded_data['employees'])\n",
    "df.head()"
   ]
  },
  {
   "cell_type": "code",
   "execution_count": null,
   "metadata": {},
   "outputs": [],
   "source": []
  }
 ],
 "metadata": {
  "kernelspec": {
   "display_name": "Python 3",
   "language": "python",
   "name": "python3"
  },
  "language_info": {
   "codemirror_mode": {
    "name": "ipython",
    "version": 3
   },
   "file_extension": ".py",
   "mimetype": "text/x-python",
   "name": "python",
   "nbconvert_exporter": "python",
   "pygments_lexer": "ipython3",
   "version": "3.11.7"
  }
 },
 "nbformat": 4,
 "nbformat_minor": 2
}

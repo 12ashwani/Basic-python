{
 "cells": [
  {
   "cell_type": "code",
   "execution_count": 2,
   "metadata": {},
   "outputs": [],
   "source": [
    "import sqlite3 as sq"
   ]
  },
  {
   "cell_type": "code",
   "execution_count": 3,
   "metadata": {},
   "outputs": [
    {
     "data": {
      "text/plain": [
       "<sqlite3.Connection at 0x1f068dff3d0>"
      ]
     },
     "execution_count": 3,
     "metadata": {},
     "output_type": "execute_result"
    }
   ],
   "source": [
    "## Connect to SQL lit database \n",
    "connection=sq.connect('Example.db')\n",
    "connection"
   ]
  },
  {
   "cell_type": "code",
   "execution_count": 4,
   "metadata": {},
   "outputs": [],
   "source": [
    "cursor=connection.cursor()"
   ]
  },
  {
   "cell_type": "code",
   "execution_count": 5,
   "metadata": {},
   "outputs": [
    {
     "data": {
      "text/plain": [
       "<sqlite3.Cursor at 0x1f0690ec6c0>"
      ]
     },
     "execution_count": 5,
     "metadata": {},
     "output_type": "execute_result"
    }
   ],
   "source": [
    "## creating the Table \n",
    "cursor.execute('''\n",
    "Create table If Not Exists Employee(\n",
    "               id Integer Primary Key,\n",
    "               name Text Not Null,\n",
    "               age integer \n",
    "               )\n",
    "''')"
   ]
  },
  {
   "cell_type": "code",
   "execution_count": 8,
   "metadata": {},
   "outputs": [
    {
     "data": {
      "text/plain": [
       "<sqlite3.Cursor at 0x1f0690ec6c0>"
      ]
     },
     "execution_count": 8,
     "metadata": {},
     "output_type": "execute_result"
    }
   ],
   "source": [
    "cursor.execute(\n",
    "    '''select * from Employee\n",
    "    '''\n",
    ")"
   ]
  },
  {
   "cell_type": "code",
   "execution_count": 10,
   "metadata": {},
   "outputs": [],
   "source": [
    "## Insert the values inside the Employee Table \n",
    "cursor.execute(\n",
    "    '''\n",
    "insert into employee(name,age)\n",
    "values('Ashwani',29) \n",
    "'''\n",
    ")\n",
    "cursor.execute(\n",
    "    '''\n",
    "insert into employee(name,age)\n",
    "values('Vishal',18) \n",
    "'''\n",
    ")\n",
    "cursor.execute(\n",
    "    '''\n",
    "insert into employee(name,age)\n",
    "values('sahil',22) \n",
    "'''\n",
    ")\n",
    "connection.commit()"
   ]
  },
  {
   "cell_type": "code",
   "execution_count": 11,
   "metadata": {},
   "outputs": [
    {
     "name": "stdout",
     "output_type": "stream",
     "text": [
      "(1, 'Ashwani', 29)\n",
      "(2, 'Ashwani', 29)\n",
      "(3, 'Ashwani', 29)\n",
      "(4, 'Vishal', 18)\n",
      "(5, 'sahil', 22)\n"
     ]
    }
   ],
   "source": [
    "cursor.execute('select * from employee')\n",
    "rows=cursor.fetchall()\n",
    "## print the Quries\n",
    "for row in rows:\n",
    "    print(row)\n"
   ]
  },
  {
   "cell_type": "code",
   "execution_count": 12,
   "metadata": {},
   "outputs": [],
   "source": [
    "## update the data into the table \n",
    "cursor.execute('''\n",
    "update employee\n",
    "               set age=30\n",
    "               where name='Ashwani'\n",
    "               \n",
    "''')\n",
    "connection.commit()"
   ]
  },
  {
   "cell_type": "code",
   "execution_count": 13,
   "metadata": {},
   "outputs": [
    {
     "name": "stdout",
     "output_type": "stream",
     "text": [
      "(1, 'Ashwani', 30)\n",
      "(2, 'Ashwani', 30)\n",
      "(3, 'Ashwani', 30)\n",
      "(4, 'Vishal', 18)\n",
      "(5, 'sahil', 22)\n"
     ]
    }
   ],
   "source": [
    "cursor.execute('select * from employee')\n",
    "rows=cursor.fetchall()\n",
    "## print the Quries\n",
    "for row in rows:\n",
    "    print(row)\n"
   ]
  },
  {
   "cell_type": "code",
   "execution_count": null,
   "metadata": {},
   "outputs": [],
   "source": [
    " "
   ]
  }
 ],
 "metadata": {
  "kernelspec": {
   "display_name": "Python 3",
   "language": "python",
   "name": "python3"
  },
  "language_info": {
   "codemirror_mode": {
    "name": "ipython",
    "version": 3
   },
   "file_extension": ".py",
   "mimetype": "text/x-python",
   "name": "python",
   "nbconvert_exporter": "python",
   "pygments_lexer": "ipython3",
   "version": "3.11.7"
  }
 },
 "nbformat": 4,
 "nbformat_minor": 2
}

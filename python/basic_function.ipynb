{
 "cells": [
  {
   "cell_type": "code",
   "execution_count": 6,
   "metadata": {},
   "outputs": [],
   "source": [
    "def odd_evn(num):\n",
    "    '''Docstring\n",
    "    This function checking the number  is even or odd \n",
    "    '''\n",
    "    if num%2==0:\n",
    "        print('This is even ')\n",
    "    else:\n",
    "        print('Odd number')"
   ]
  },
  {
   "cell_type": "code",
   "execution_count": 4,
   "metadata": {},
   "outputs": [
    {
     "name": "stdout",
     "output_type": "stream",
     "text": [
      "Odd number\n"
     ]
    }
   ],
   "source": [
    "# calll the function name \n",
    "odd_evn(45)"
   ]
  },
  {
   "cell_type": "code",
   "execution_count": 8,
   "metadata": {},
   "outputs": [
    {
     "name": "stdout",
     "output_type": "stream",
     "text": [
      "10\n"
     ]
    }
   ],
   "source": [
    "# add the two nubewr add\n",
    "def add(a,b):\n",
    "    return a+b\n",
    "result=add(3,7)\n",
    "print(result)\n"
   ]
  },
  {
   "cell_type": "code",
   "execution_count": 9,
   "metadata": {},
   "outputs": [
    {
     "name": "stdout",
     "output_type": "stream",
     "text": [
      "hello vishal\n"
     ]
    }
   ],
   "source": [
    "# default perammeters\n",
    "def greet(name=\"Ashwani\"):\n",
    "    print(f'hello {name}')\n",
    "greet('vishal')"
   ]
  },
  {
   "cell_type": "code",
   "execution_count": 10,
   "metadata": {},
   "outputs": [
    {
     "name": "stdout",
     "output_type": "stream",
     "text": [
      "hello Ashwani\n"
     ]
    }
   ],
   "source": [
    "greet()"
   ]
  },
  {
   "cell_type": "code",
   "execution_count": 14,
   "metadata": {},
   "outputs": [],
   "source": [
    "## variable length Arguments\n",
    "# Position and keyword arguments\n",
    "def print_number(*args):\n",
    "    for number in args:\n",
    "        print(number)\n"
   ]
  },
  {
   "cell_type": "code",
   "execution_count": 13,
   "metadata": {},
   "outputs": [
    {
     "name": "stdout",
     "output_type": "stream",
     "text": [
      "1\n",
      "3\n",
      "4\n",
      "5\n",
      "6\n",
      "7\n",
      "7\n",
      "7\n",
      "8\n",
      "Vishal\n"
     ]
    }
   ],
   "source": [
    "print_number(1,3,4,5,6,7,7,7,8,'Vishal')"
   ]
  },
  {
   "cell_type": "code",
   "execution_count": 15,
   "metadata": {},
   "outputs": [],
   "source": [
    "# Keyword arguments\n",
    "def print_details(**kwargs):\n",
    "    for i,key in kwargs.items():\n",
    "        print(f'{i}:{key}')\n"
   ]
  },
  {
   "cell_type": "code",
   "execution_count": 16,
   "metadata": {},
   "outputs": [
    {
     "name": "stdout",
     "output_type": "stream",
     "text": [
      "name:ashwani\n",
      "age:67\n"
     ]
    }
   ],
   "source": [
    "print_details(name='ashwani',age='67')"
   ]
  },
  {
   "cell_type": "code",
   "execution_count": 17,
   "metadata": {},
   "outputs": [],
   "source": [
    "def convert_temp(temp, unit):\n",
    "    '''Converting the temperature into Celsius and Fahrenheit.'''\n",
    "    if unit == 'C':\n",
    "        # Convert Celsius to Fahrenheit\n",
    "        return temp * 9/5 + 32\n",
    "    elif unit == 'F':\n",
    "        # Convert Fahrenheit to Celsius\n",
    "        return (temp - 32) * 5/9\n",
    "    else:\n",
    "        return \"Invalid unit! Please use 'C' for Celsius or 'F' for Fahrenheit.\"\n",
    "\n",
    "\n"
   ]
  },
  {
   "cell_type": "code",
   "execution_count": 18,
   "metadata": {},
   "outputs": [
    {
     "name": "stdout",
     "output_type": "stream",
     "text": [
      "25C is 77.0F\n",
      "77F is 25.0C\n"
     ]
    }
   ],
   "source": [
    "# \n",
    "celsius_temp = 25\n",
    "fahrenheit_temp = convert_temp(celsius_temp, 'C')\n",
    "print(f\"{celsius_temp}C is {fahrenheit_temp}F\")\n",
    "\n",
    "fahrenheit_temp = 77\n",
    "celsius_temp = convert_temp(fahrenheit_temp, 'F')\n",
    "print(f\"{fahrenheit_temp}F is {celsius_temp}C\")"
   ]
  },
  {
   "cell_type": "code",
   "execution_count": 23,
   "metadata": {},
   "outputs": [],
   "source": [
    "def checking_strength(password):\n",
    "    '''This function checks the strength of the password.'''\n",
    "    \n",
    "    # Check if the password is at least 8 characters long\n",
    "    if len(password) < 8:\n",
    "        return False\n",
    "    # Check if there is at least one digit in the password\n",
    "    if not any(char.isdigit() for char in password):\n",
    "        return False\n",
    "    # Check if there is at least one lowercase letter\n",
    "    if not any(char.islower() for char in password):\n",
    "        return False\n",
    "    # Check if there is at least one uppercase letter\n",
    "    if not any(char.isupper() for char in password):\n",
    "        return False\n",
    "    # Check if there is at least one special character\n",
    "    if not any(char in \"!@#$%^&*()_+\" for char in password):\n",
    "        return False\n",
    "    return True\n",
    "\n",
    "\n"
   ]
  },
  {
   "cell_type": "code",
   "execution_count": 27,
   "metadata": {},
   "outputs": [
    {
     "data": {
      "text/plain": [
       "False"
      ]
     },
     "execution_count": 27,
     "metadata": {},
     "output_type": "execute_result"
    }
   ],
   "source": [
    "checking_strength('jPyu9787')"
   ]
  },
  {
   "cell_type": "code",
   "execution_count": 29,
   "metadata": {},
   "outputs": [
    {
     "name": "stdout",
     "output_type": "stream",
     "text": [
      "Total bill: $21.4\n"
     ]
    }
   ],
   "source": [
    "def calculate_total_bill(cart):\n",
    "    total_cost = 0\n",
    "    for item in cart:\n",
    "        total_cost += item['price'] * item['quantity']  # Fixed 'quantity' typo\n",
    "    return total_cost\n",
    "\n",
    "cart = [\n",
    "    {'name': \"apple\", 'price': 0.3, 'quantity': 4},  # Fixed missing commas and 'apple' typo\n",
    "    {'name': \"mango\", 'price': 0.9, 'quantity': 8},\n",
    "    {'name': \"cherry\", 'price': 0.7, 'quantity': 10},  # Fixed 'cherry' typo\n",
    "    {'name': \"banana\", 'price': 0.5, 'quantity': 12}\n",
    "]\n",
    "\n",
    "# Example usage:\n",
    "total = calculate_total_bill(cart)\n",
    "print(f\"Total bill: ${total}\")\n"
   ]
  },
  {
   "cell_type": "code",
   "execution_count": 30,
   "metadata": {},
   "outputs": [],
   "source": [
    "def factorial(m):\n",
    "    if m==0:\n",
    "        return 1\n",
    "    else:\n",
    "        return m*factorial(m-1)"
   ]
  },
  {
   "cell_type": "code",
   "execution_count": 32,
   "metadata": {},
   "outputs": [
    {
     "data": {
      "text/plain": [
       "120"
      ]
     },
     "execution_count": 32,
     "metadata": {},
     "output_type": "execute_result"
    }
   ],
   "source": [
    "factorial(5)"
   ]
  },
  {
   "cell_type": "code",
   "execution_count": 34,
   "metadata": {},
   "outputs": [],
   "source": [
    "def count_frequency(file_path):\n",
    "    word_count = {}\n",
    "    with open(file_path, 'r') as file:\n",
    "        for line in file:\n",
    "            words = line.split()\n",
    "            for word in words:\n",
    "                # Clean the word by converting to lowercase and stripping punctuation\n",
    "                word = word.lower().strip(',.;:\"!\\'?')\n",
    "                # Update the count in the dictionary\n",
    "                word_count[word] = word_count.get(word, 0) + 1\n",
    "    return word_count\n",
    "\n",
    "# Example usage:\n",
    "# Assuming you have a file named 'example.txt' in the same directory\n",
    "# word_count = count_frequency('example.txt')\n",
    "# print(word_count)\n"
   ]
  },
  {
   "cell_type": "code",
   "execution_count": 35,
   "metadata": {},
   "outputs": [
    {
     "data": {
      "text/plain": [
       "{'master': 1,\n",
       " 'the': 1,\n",
       " 'theory': 1,\n",
       " 'practice': 1,\n",
       " 'and': 1,\n",
       " 'math': 1,\n",
       " 'behind': 1,\n",
       " 'ml,nlp': 1,\n",
       " 'build': 1,\n",
       " 'real-world': 1,\n",
       " 'projects': 1,\n",
       " 'with': 2,\n",
       " 'mlops': 1,\n",
       " 'git': 1,\n",
       " 'dockers': 1,\n",
       " 'deployment': 1}"
      ]
     },
     "execution_count": 35,
     "metadata": {},
     "output_type": "execute_result"
    }
   ],
   "source": [
    "count_frequency('smaple.txt')"
   ]
  },
  {
   "cell_type": "markdown",
   "metadata": {},
   "source": [
    "# Anonymous function\n",
    "An anonymous function in Python is a function that is defined without a name. In Python, these are created using the lambda keyword, and they are commonly referred to as lambda functions.\n",
    "- lambda arguments: expression\n"
   ]
  },
  {
   "cell_type": "code",
   "execution_count": 36,
   "metadata": {},
   "outputs": [],
   "source": [
    "add=lambda a,b:a+b"
   ]
  },
  {
   "cell_type": "code",
   "execution_count": 37,
   "metadata": {},
   "outputs": [
    {
     "data": {
      "text/plain": [
       "7"
      ]
     },
     "execution_count": 37,
     "metadata": {},
     "output_type": "execute_result"
    }
   ],
   "source": [
    "add(2,5)"
   ]
  },
  {
   "cell_type": "code",
   "execution_count": 38,
   "metadata": {},
   "outputs": [],
   "source": [
    "even =lambda a:a%2==0"
   ]
  },
  {
   "cell_type": "code",
   "execution_count": 39,
   "metadata": {},
   "outputs": [
    {
     "data": {
      "text/plain": [
       "True"
      ]
     },
     "execution_count": 39,
     "metadata": {},
     "output_type": "execute_result"
    }
   ],
   "source": [
    "even(34)"
   ]
  },
  {
   "cell_type": "markdown",
   "metadata": {},
   "source": [
    "In Python, map() is a built-in function that applies a given function to all the items in an input iterable (like a list) and returns an iterator (or map object) of the results. It’s commonly used when you want to transform each item in a collection without using an explicit for loop.\n",
    "- map(function, iterable, ...)\n"
   ]
  },
  {
   "cell_type": "markdown",
   "metadata": {},
   "source": [
    "- function: The function to apply to each element of the iterable.\n",
    "- iterable: One or more iterables whose items will be passed to the function.\n",
    "\n",
    "If multiple iterables are provided, the function should accept that many arguments."
   ]
  },
  {
   "cell_type": "code",
   "execution_count": 41,
   "metadata": {},
   "outputs": [],
   "source": [
    "def squar(n):\n",
    "    return n*n"
   ]
  },
  {
   "cell_type": "code",
   "execution_count": 46,
   "metadata": {},
   "outputs": [
    {
     "data": {
      "text/plain": [
       "[1, 9, 25, 49, 64]"
      ]
     },
     "execution_count": 46,
     "metadata": {},
     "output_type": "execute_result"
    }
   ],
   "source": [
    "list(map(squar,[1,3,5,7,8]))"
   ]
  },
  {
   "cell_type": "code",
   "execution_count": 48,
   "metadata": {},
   "outputs": [
    {
     "name": "stdout",
     "output_type": "stream",
     "text": [
      "[1, 4, 9, 16]\n"
     ]
    }
   ],
   "source": [
    "numbers = [1, 2, 3, 4]\n",
    "numbers1 = [4, 4, 3, 8]\n",
    "squared = list(map(lambda x: x ** 2, numbers))\n",
    "print(squared)  # Output: [1, 4, 9, 16]\n"
   ]
  },
  {
   "cell_type": "code",
   "execution_count": 49,
   "metadata": {},
   "outputs": [
    {
     "name": "stdout",
     "output_type": "stream",
     "text": [
      "[5, 6, 6, 12]\n"
     ]
    }
   ],
   "source": [
    "numbers = [1, 2, 3, 4]\n",
    "numbers1 = [4, 4, 3, 8]\n",
    "squared = list(map(lambda x,y: x +y, numbers,numbers1))\n",
    "print(squared)  # Output: [1, 4, 9, 16]"
   ]
  },
  {
   "cell_type": "code",
   "execution_count": 51,
   "metadata": {},
   "outputs": [
    {
     "data": {
      "text/plain": [
       "['ASHWANI', 'VISHAL']"
      ]
     },
     "execution_count": 51,
     "metadata": {},
     "output_type": "execute_result"
    }
   ],
   "source": [
    "list(map(str.upper,['ashwani','vishal']))"
   ]
  },
  {
   "cell_type": "markdown",
   "metadata": {},
   "source": [
    "In Python, filter() is a built-in function used to filter items from an iterable based on a condition. It applies a specified function (predicate) to each item of an iterable and returns an iterator containing only the items for which the function returns True.\n",
    "- filter(function, iterable)\n"
   ]
  },
  {
   "cell_type": "code",
   "execution_count": 52,
   "metadata": {},
   "outputs": [
    {
     "name": "stdout",
     "output_type": "stream",
     "text": [
      "[2, 4, 6, 8]\n"
     ]
    }
   ],
   "source": [
    "def is_even(x):\n",
    "    return x % 2 == 0\n",
    "\n",
    "numbers = [1, 2, 3, 4, 5, 6, 7, 8]\n",
    "even_numbers = filter(is_even, numbers)\n",
    "print(list(even_numbers))  # Output: [2, 4, 6, 8]\n"
   ]
  },
  {
   "cell_type": "code",
   "execution_count": 53,
   "metadata": {},
   "outputs": [
    {
     "name": "stdout",
     "output_type": "stream",
     "text": [
      "[2, 4, 6]\n"
     ]
    }
   ],
   "source": [
    "numbers = [1, 2, 3, 4, 5, 6]\n",
    "even_numbers = list(filter(lambda x: x % 2 == 0, numbers))\n",
    "print(even_numbers)  # Output: [2, 4, 6]\n"
   ]
  },
  {
   "cell_type": "code",
   "execution_count": 54,
   "metadata": {},
   "outputs": [
    {
     "name": "stdout",
     "output_type": "stream",
     "text": [
      "[(4, 1), (1, 2), (2, 3)]\n"
     ]
    }
   ],
   "source": [
    "points = [(2, 3), (1, 2), (4, 1)]\n",
    "sorted_points = sorted(points, key=lambda x: x[1])  # Sort by the second element of each tuple\n",
    "print(sorted_points)  # Output: [(4, 1), (1, 2), (2, 3)]\n"
   ]
  },
  {
   "cell_type": "code",
   "execution_count": null,
   "metadata": {},
   "outputs": [],
   "source": []
  }
 ],
 "metadata": {
  "kernelspec": {
   "display_name": "Python 3",
   "language": "python",
   "name": "python3"
  },
  "language_info": {
   "codemirror_mode": {
    "name": "ipython",
    "version": 3
   },
   "file_extension": ".py",
   "mimetype": "text/x-python",
   "name": "python",
   "nbconvert_exporter": "python",
   "pygments_lexer": "ipython3",
   "version": "3.11.7"
  }
 },
 "nbformat": 4,
 "nbformat_minor": 2
}

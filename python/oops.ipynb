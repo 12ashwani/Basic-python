{
 "cells": [
  {
   "cell_type": "markdown",
   "metadata": {},
   "source": [
    "# OOP - object oriented programing\n",
    "OOPs (Object-Oriented Programming System) is a programming paradigm based on the concept of objects, which contain data in the form of attributes (properties) and methods (functions or behaviors). OOP provides a structured way to design and develop software by modeling real-world entities as objects and defining their relationships. The core principles of OOP are encapsulation, inheritance, polymorphism, and abstraction."
   ]
  },
  {
   "cell_type": "markdown",
   "metadata": {},
   "source": [
    "### 1. Encapsulation\n",
    "Encapsulation is the concept of bundling data and methods that operate on the data within a single unit, known as a class. It restricts direct access to some components, which is useful for controlling how data is modified. Encapsulation is often implemented by using access modifiers like private, protected, and public."
   ]
  },
  {
   "cell_type": "markdown",
   "metadata": {},
   "source": [
    "### 2. Inheritance\n",
    "Inheritance allows a class (child class) to inherit attributes and methods from another class (parent class). It promotes code reuse and establishes a relationship between classes."
   ]
  },
  {
   "cell_type": "markdown",
   "metadata": {},
   "source": [
    "### 3. Polymorphism\n",
    "Polymorphism allows objects to be treated as instances of their parent class, even though each object behaves differently. It enables the same method to have different implementations across various classes."
   ]
  },
  {
   "cell_type": "markdown",
   "metadata": {},
   "source": [
    "### 4. Abstraction\n",
    "Abstraction is the concept of hiding complex implementation details and showing only the essential features of an object. It helps in reducing complexity by providing a simple interface."
   ]
  },
  {
   "cell_type": "code",
   "execution_count": 2,
   "metadata": {},
   "outputs": [],
   "source": [
    "class Car:\n",
    "    pass\n",
    "audi=Car()\n",
    "tata=Car()"
   ]
  },
  {
   "cell_type": "code",
   "execution_count": 4,
   "metadata": {},
   "outputs": [
    {
     "name": "stdout",
     "output_type": "stream",
     "text": [
      "4\n"
     ]
    }
   ],
   "source": [
    "## instant variable and methode insode the class\n",
    "audi.windows=4\n",
    "print(audi.windows)"
   ]
  },
  {
   "cell_type": "code",
   "execution_count": 8,
   "metadata": {},
   "outputs": [
    {
     "name": "stdout",
     "output_type": "stream",
     "text": [
      "<__main__.Dog object at 0x00000219AAEE70D0>\n",
      "6\n",
      "Pupy\n"
     ]
    }
   ],
   "source": [
    "## instant variable and methode insode the class\n",
    "class Dog :\n",
    "    # constructor\n",
    "    def __init__(self,name,age):\n",
    "\n",
    "        self.name=name\n",
    "        self.age=age\n",
    "    \n",
    "# creating the class object\n",
    "dog1=Dog('Pupy',6)\n",
    "print(dog1)\n",
    "print(dog1.age)\n",
    "print(dog1.name)"
   ]
  },
  {
   "cell_type": "code",
   "execution_count": 9,
   "metadata": {},
   "outputs": [
    {
     "name": "stdout",
     "output_type": "stream",
     "text": [
      "<__main__.Dog object at 0x00000219AAEE70D0>\n"
     ]
    }
   ],
   "source": [
    "print(dog1)"
   ]
  },
  {
   "cell_type": "code",
   "execution_count": 11,
   "metadata": {},
   "outputs": [],
   "source": [
    "# defining the class with the instance method\n",
    "class Dog :\n",
    "    def __init__(self,name,age):\n",
    "        self.name=name\n",
    "        self.age=age\n",
    "    def bark(self):\n",
    "        print(f'{self.name} Bhow Bhow !')\n",
    "        \n",
    "dog1=Dog('lalu',5)\n"
   ]
  },
  {
   "cell_type": "code",
   "execution_count": 12,
   "metadata": {},
   "outputs": [
    {
     "name": "stdout",
     "output_type": "stream",
     "text": [
      "lalu Bhow Bhow !\n"
     ]
    }
   ],
   "source": [
    "dog1.bark()"
   ]
  },
  {
   "cell_type": "code",
   "execution_count": 18,
   "metadata": {},
   "outputs": [],
   "source": [
    "class BankAccount:\n",
    "    def __init__(self, owner, balance=0):\n",
    "        self.owner = owner\n",
    "        self.balance = balance\n",
    "    \n",
    "    def deposit(self, amount):\n",
    "        self.balance += amount\n",
    "        print(f'{amount} deposited. New balance is {self.balance}')\n",
    "    \n",
    "    def withdraw(self, amount):\n",
    "        if amount > self.balance:\n",
    "            print('Insufficient balance in your account')\n",
    "        else:\n",
    "            self.balance -= amount\n",
    "            print(f'{amount} withdrawn. New balance is {self.balance}')\n",
    "    \n",
    "    def check_balance(self):\n",
    "        return self.balance\n",
    "\n",
    "# Creating the object\n",
    "account = BankAccount('Ashwani', 500)\n",
    "\n",
    "# Test methods\n",
    "\n"
   ]
  },
  {
   "cell_type": "code",
   "execution_count": 20,
   "metadata": {},
   "outputs": [
    {
     "name": "stdout",
     "output_type": "stream",
     "text": [
      "100 deposited. New balance is 600\n"
     ]
    }
   ],
   "source": [
    "account.deposit(100)"
   ]
  },
  {
   "cell_type": "code",
   "execution_count": 21,
   "metadata": {},
   "outputs": [
    {
     "name": "stdout",
     "output_type": "stream",
     "text": [
      "200 withdrawn. New balance is 400\n"
     ]
    }
   ],
   "source": [
    "account.withdraw(200)"
   ]
  },
  {
   "cell_type": "code",
   "execution_count": 22,
   "metadata": {},
   "outputs": [
    {
     "data": {
      "text/plain": [
       "400"
      ]
     },
     "execution_count": 22,
     "metadata": {},
     "output_type": "execute_result"
    }
   ],
   "source": [
    "account.check_balance()"
   ]
  },
  {
   "cell_type": "markdown",
   "metadata": {},
   "source": [
    "## Inheritance \n",
    "In object-oriented programming, inheritance is a mechanism that allows a new class (called the subclass or derived class) to inherit properties and behaviors (attributes and methods) from an existing class (called the superclass or base class). This helps organize and reuse code effectively and enables a hierarchical relationship between classes.\n"
   ]
  },
  {
   "cell_type": "code",
   "execution_count": 27,
   "metadata": {},
   "outputs": [
    {
     "name": "stdout",
     "output_type": "stream",
     "text": [
      "The person is driving a petrol car with 4 windows and 4 tires.\n"
     ]
    }
   ],
   "source": [
    "class Car:\n",
    "    def __init__(self, windows, tires, engine):\n",
    "        self.windows = windows\n",
    "        self.tires = tires\n",
    "        self.engine = engine\n",
    "\n",
    "    def drive(self):\n",
    "        print(f'The person is driving a {self.engine} car with {self.windows} windows and {self.tires} tires.')\n",
    "\n",
    "# Creating an instance of Car\n",
    "car1 = Car(4, 4, 'petrol')\n",
    "car1.drive()\n"
   ]
  },
  {
   "cell_type": "code",
   "execution_count": 31,
   "metadata": {},
   "outputs": [],
   "source": [
    "class Tesla(Car):\n",
    "    def __init__(self, windows, tires, engine, is_self_drive):\n",
    "        super().__init__(windows, tires, engine)\n",
    "        self.is_self_drive = is_self_drive\n",
    "\n",
    "    def self_driving(self):\n",
    "        if self.is_self_drive:\n",
    "            print(\"This Tesla supports self-driving.\")\n",
    "        else:\n",
    "            print(\"This Tesla does not support self-driving.\")\n"
   ]
  },
  {
   "cell_type": "code",
   "execution_count": 34,
   "metadata": {},
   "outputs": [
    {
     "name": "stdout",
     "output_type": "stream",
     "text": [
      "The person is driving a electric car with 4 windows and 4 tires.\n",
      "This Tesla supports self-driving.\n"
     ]
    }
   ],
   "source": [
    "tesla1 = Tesla(4, 4, 'electric', True)\n",
    "tesla1.drive()          # Inherited from Car class\n",
    "tesla1.self_driving() "
   ]
  },
  {
   "cell_type": "code",
   "execution_count": 36,
   "metadata": {},
   "outputs": [
    {
     "name": "stdout",
     "output_type": "stream",
     "text": [
      "This Tesla supports self-driving.\n"
     ]
    }
   ],
   "source": [
    "tesla1.self_driving()"
   ]
  },
  {
   "cell_type": "markdown",
   "metadata": {},
   "source": [
    "# Encapsulation\n",
    "Encapsulation is the concept of bundling data and methods that operate on the data within a single unit, known as a class. It restricts direct access to some components, which is useful for controlling how data is modified. Encapsulation is often implemented by using access modifiers like private, protected, and public."
   ]
  },
  {
   "cell_type": "code",
   "execution_count": 58,
   "metadata": {},
   "outputs": [
    {
     "name": "stdout",
     "output_type": "stream",
     "text": [
      "Ashwani\n",
      "30\n"
     ]
    }
   ],
   "source": [
    "class Person:\n",
    "    def __init__(self, name, age):\n",
    "        self.name = name         # public attribute\n",
    "        self.__age = age         # private attribute (hidden outside class)\n",
    "\n",
    "    def get_age(self):\n",
    "        return self.__age        # public method to access private attribute\n",
    "\n",
    "person = Person(\"Ashwani\", 30)\n",
    "print(person.name)              # Accessing public attribute\n",
    "print(person.get_age())         # Accessing private attribute through a method\n"
   ]
  },
  {
   "cell_type": "code",
   "execution_count": 60,
   "metadata": {},
   "outputs": [
    {
     "data": {
      "text/plain": [
       "['_Person__age',\n",
       " '__class__',\n",
       " '__delattr__',\n",
       " '__dict__',\n",
       " '__dir__',\n",
       " '__doc__',\n",
       " '__eq__',\n",
       " '__format__',\n",
       " '__ge__',\n",
       " '__getattribute__',\n",
       " '__getstate__',\n",
       " '__gt__',\n",
       " '__hash__',\n",
       " '__init__',\n",
       " '__init_subclass__',\n",
       " '__le__',\n",
       " '__lt__',\n",
       " '__module__',\n",
       " '__ne__',\n",
       " '__new__',\n",
       " '__reduce__',\n",
       " '__reduce_ex__',\n",
       " '__repr__',\n",
       " '__setattr__',\n",
       " '__sizeof__',\n",
       " '__str__',\n",
       " '__subclasshook__',\n",
       " '__weakref__',\n",
       " 'get_age',\n",
       " 'name']"
      ]
     },
     "execution_count": 60,
     "metadata": {},
     "output_type": "execute_result"
    }
   ],
   "source": [
    "dir(person)"
   ]
  },
  {
   "cell_type": "code",
   "execution_count": 39,
   "metadata": {},
   "outputs": [
    {
     "data": {
      "text/plain": [
       "'Alice'"
      ]
     },
     "execution_count": 39,
     "metadata": {},
     "output_type": "execute_result"
    }
   ],
   "source": [
    "person.name"
   ]
  },
  {
   "cell_type": "markdown",
   "metadata": {},
   "source": [
    "## Getter and Setter\n",
    "using the getter for gatting the hide varible "
   ]
  },
  {
   "cell_type": "code",
   "execution_count": 61,
   "metadata": {},
   "outputs": [
    {
     "name": "stdout",
     "output_type": "stream",
     "text": [
      "Ashwani\n",
      "30\n",
      "35\n",
      "Please enter a valid age.\n",
      "35\n"
     ]
    }
   ],
   "source": [
    "class Person:\n",
    "    def __init__(self, name, age):\n",
    "        # Initializing the public attribute\n",
    "        self.name = name  # public attribute\n",
    "        # Initializing the private attribute\n",
    "        self.__age = age  # private attribute (hidden outside class)\n",
    "\n",
    "    # Getter method for 'age'\n",
    "    def get_age(self):\n",
    "        return self.__age  # returns the private attribute's value\n",
    "\n",
    "    # Setter method for 'age' with basic validation\n",
    "    def set_age(self, age):\n",
    "        if age > 0:  # simple validation to ensure age is positive\n",
    "            self.__age = age\n",
    "        else:\n",
    "            print(\"Please enter a valid age.\")\n",
    "\n",
    "# Creating an instance of the Person class\n",
    "person = Person(\"Ashwani\", 30)\n",
    "\n",
    "# Accessing the public attribute\n",
    "print(person.name)  # Output: Ashwani\n",
    "\n",
    "# Accessing the private attribute using the getter method\n",
    "print(person.get_age())  # Output: 30\n",
    "\n",
    "# Updating the private attribute using the setter method\n",
    "person.set_age(35)\n",
    "print(person.get_age())  # Output: 35\n",
    "\n",
    "# Attempting to set an invalid age\n",
    "person.set_age(-5)  # Output: Please enter a valid age.\n",
    "print(person.get_age())  # Output: 35 (unchanged due to invalid input)\n"
   ]
  },
  {
   "cell_type": "markdown",
   "metadata": {},
   "source": [
    "# Polymorphism\n",
    "Polymorphism allows objects to be treated as instances of their parent class, even though each object behaves differently. It enables the same method to have different implementations across various classes."
   ]
  },
  {
   "cell_type": "markdown",
   "metadata": {},
   "source": [
    "# Methode oreriding \n",
    "it allowed to a child class to provide  a specifice implimentation  of a method that is already define in the perent class"
   ]
  },
  {
   "cell_type": "code",
   "execution_count": 49,
   "metadata": {},
   "outputs": [
    {
     "name": "stdout",
     "output_type": "stream",
     "text": [
      "Meow !\n",
      "Bhow!\n"
     ]
    }
   ],
   "source": [
    "class Animal:\n",
    "    def speck(self):\n",
    "        return 'Sound of the animal'\n",
    "\n",
    "class Cat(Animal):\n",
    "    def speck(self):\n",
    "        return 'Meow !'\n",
    "\n",
    "class Dog(Animal):\n",
    "    def speck(self):\n",
    "        return 'Bhow!'\n",
    "\n",
    "def animal_speak(animal):\n",
    "    print(animal.speck())\n",
    "\n",
    "# Example usage\n",
    "cat = Cat()\n",
    "dog = Dog()\n",
    "\n",
    "animal_speak(cat)  # Output: Meow\n",
    "animal_speak(dog)  # Output: Bhow!\n"
   ]
  },
  {
   "cell_type": "code",
   "execution_count": 48,
   "metadata": {},
   "outputs": [
    {
     "name": "stdout",
     "output_type": "stream",
     "text": [
      "Bhow!\n",
      "Meow\n",
      "Bhow!\n"
     ]
    }
   ],
   "source": [
    "dog=Dog()\n",
    "cat=Cat()\n",
    "print(dog.speck())\n",
    "print(cat.speck())\n",
    "animal_speak(dog)"
   ]
  },
  {
   "cell_type": "code",
   "execution_count": 54,
   "metadata": {},
   "outputs": [
    {
     "name": "stdout",
     "output_type": "stream",
     "text": [
      "The area is: 20\n",
      "The area is: 28.26\n"
     ]
    }
   ],
   "source": [
    "class Shape:\n",
    "    def area(self):\n",
    "        return 'Area of given shape'\n",
    "\n",
    "class Rectangle(Shape):\n",
    "    def __init__(self, length, height):\n",
    "        super().__init__()\n",
    "        self.length = length\n",
    "        self.height = height\n",
    "\n",
    "    def area(self):\n",
    "        return self.length * self.height\n",
    "\n",
    "class Circle(Shape):\n",
    "    def __init__(self, radius):\n",
    "        super().__init__()\n",
    "        self.radius = radius\n",
    "\n",
    "    def area(self):\n",
    "        return 3.14 * (self.radius ** 2)\n",
    "\n",
    "def print_area(shape):\n",
    "    print(f'The area is: {shape.area()}')\n",
    "\n",
    "# Example usage\n",
    "rectangle = Rectangle(5, 4)\n",
    "circle = Circle(3)\n",
    "\n",
    "print_area(rectangle)  # Output: The area is: 20\n",
    "print_area(circle)     # Output: The area is: 28.26\n"
   ]
  },
  {
   "cell_type": "code",
   "execution_count": 55,
   "metadata": {},
   "outputs": [
    {
     "name": "stdout",
     "output_type": "stream",
     "text": [
      "The area is: 10\n"
     ]
    }
   ],
   "source": [
    "rectangle=Rectangle(2,5)\n",
    "circle=Circle(4)\n",
    "print_area(rectangle)"
   ]
  },
  {
   "cell_type": "code",
   "execution_count": 57,
   "metadata": {},
   "outputs": [
    {
     "name": "stdout",
     "output_type": "stream",
     "text": [
      "Car engine started\n",
      "Motorcycle engine started\n"
     ]
    }
   ],
   "source": [
    "# Importing the ABC module for creating abstract base classes\n",
    "from abc import ABC, abstractmethod\n",
    "\n",
    "# Defining the abstract base class 'Vehicle'\n",
    "class Vehicle(ABC):\n",
    "    # Abstract method that must be implemented by any subclass\n",
    "    @abstractmethod\n",
    "    def start_engine(self):\n",
    "        pass\n",
    "\n",
    "# Defining the 'Car' class, which inherits from 'Vehicle'\n",
    "class Car(Vehicle):\n",
    "    # Implementing the start_engine method for the Car\n",
    "    def start_engine(self):\n",
    "        return 'Car engine started'\n",
    "\n",
    "# Defining the 'Motorcycle' class, which also inherits from 'Vehicle'\n",
    "class Motorcycle(Vehicle):\n",
    "    # Implementing the start_engine method for the Motorcycle\n",
    "    def start_engine(self):\n",
    "        return 'Motorcycle engine started'\n",
    "\n",
    "# Function to start any vehicle, demonstrating polymorphism\n",
    "def start_vehicle(vehicle):\n",
    "    # Calls the start_engine method of the passed-in vehicle object\n",
    "    print(vehicle.start_engine())\n",
    "\n",
    "# Creating instances of Car and Motorcycle\n",
    "car = Car()\n",
    "motorcycle = Motorcycle()\n",
    "\n",
    "# Starting both vehicles by passing them to the start_vehicle function\n",
    "start_vehicle(car)        # Output: Car engine started\n",
    "start_vehicle(motorcycle)  # Output: Motorcycle engine started\n"
   ]
  },
  {
   "cell_type": "code",
   "execution_count": 40,
   "metadata": {},
   "outputs": [
    {
     "name": "stdout",
     "output_type": "stream",
     "text": [
      "Chirp\n",
      "Meow\n"
     ]
    }
   ],
   "source": [
    "class Bird:\n",
    "    def sound(self):\n",
    "        return \"Chirp\"\n",
    "\n",
    "class Cat:\n",
    "    def sound(self):\n",
    "        return \"Meow\"\n",
    "\n",
    "# Polymorphism in action\n",
    "def make_sound(animal):\n",
    "    print(animal.sound())\n",
    "\n",
    "bird = Bird()\n",
    "cat = Cat()\n",
    "\n",
    "make_sound(bird)  # Output: Chirp\n",
    "make_sound(cat)   # Output: Meow\n"
   ]
  },
  {
   "cell_type": "markdown",
   "metadata": {},
   "source": [
    "# Abstraction\n",
    "Abstraction is the concept of hiding complex implementation details and showing only the essential features of an object. It helps in reducing complexity by providing a simple interface."
   ]
  },
  {
   "cell_type": "code",
   "execution_count": 41,
   "metadata": {},
   "outputs": [
    {
     "name": "stdout",
     "output_type": "stream",
     "text": [
      "Car is being driven\n"
     ]
    }
   ],
   "source": [
    "from abc import ABC, abstractmethod\n",
    "\n",
    "class Vehicle(ABC):\n",
    "    @abstractmethod\n",
    "    def drive(self):\n",
    "        pass\n",
    "\n",
    "class Car(Vehicle):\n",
    "    def drive(self):\n",
    "        return \"Car is being driven\"\n",
    "\n",
    "car = Car()\n",
    "print(car.drive())  # Output: Car is being driven\n"
   ]
  },
  {
   "cell_type": "code",
   "execution_count": null,
   "metadata": {},
   "outputs": [],
   "source": [
    "\n"
   ]
  },
  {
   "cell_type": "markdown",
   "metadata": {},
   "source": [
    "## Magic methods\n",
    "Magic methods (also known as dunder methods because of the double underscores before and after their names) are special methods in Python classes that allow you to define custom behaviors for built-in operations. These methods start and end with double underscores, like __init__, __str__, __add__, etc. They enable you to control how your objects interact with various Python operators, functions, and methods."
   ]
  },
  {
   "attachments": {
    "image.png": {
     "image/png": "[encoded data removed]"
    }
   },
   "cell_type": "markdown",
   "metadata": {},
   "source": [
    "![image.png](attachment:image.png)"
   ]
  },
  {
   "cell_type": "markdown",
   "metadata": {},
   "source": [
    "# 1.__init__ - Constructor\n",
    "The __init__ method is called when a new instance of the class is created. It's used for initializing attributes."
   ]
  },
  {
   "cell_type": "code",
   "execution_count": 62,
   "metadata": {},
   "outputs": [
    {
     "name": "stdout",
     "output_type": "stream",
     "text": [
      "Ashwani\n"
     ]
    }
   ],
   "source": [
    "class Person:\n",
    "    def __init__(self, name, age):\n",
    "        self.name = name\n",
    "        self.age = age\n",
    "\n",
    "person = Person(\"Ashwani\", 30)\n",
    "print(person.name)  # Output: Ashwani\n"
   ]
  },
  {
   "cell_type": "markdown",
   "metadata": {},
   "source": [
    "## 2. __str__ - String Representation\n",
    "The __str__ method is called by print() or str() to get a string representation of the object."
   ]
  },
  {
   "cell_type": "code",
   "execution_count": 63,
   "metadata": {},
   "outputs": [
    {
     "name": "stdout",
     "output_type": "stream",
     "text": [
      "Person(name=Ashwani, age=30)\n"
     ]
    }
   ],
   "source": [
    "class Person:\n",
    "    def __init__(self, name, age):\n",
    "        self.name = name\n",
    "        self.age = age\n",
    "\n",
    "    def __str__(self):\n",
    "        return f\"Person(name={self.name}, age={self.age})\"\n",
    "\n",
    "person = Person(\"Ashwani\", 30)\n",
    "print(person)  # Output: Person(name=Ashwani, age=30)\n"
   ]
  },
  {
   "cell_type": "markdown",
   "metadata": {},
   "source": [
    "## 3. __repr__ - Official String Representation\n",
    "The __repr__ method is used to provide an \"official\" string representation of an object, useful for debugging. It's called when you use repr() or in the interactive interpreter."
   ]
  },
  {
   "cell_type": "code",
   "execution_count": 65,
   "metadata": {},
   "outputs": [
    {
     "name": "stdout",
     "output_type": "stream",
     "text": [
      "Person(name='Ashwani', age=30)\n"
     ]
    }
   ],
   "source": [
    "## 3. __repr__ - Official String Representation\n",
    "\n",
    "class Person:\n",
    "    def __init__(self, name, age):\n",
    "        self.name = name\n",
    "        self.age = age\n",
    "\n",
    "    def __repr__(self):\n",
    "        return f\"Person(name={self.name!r}, age={self.age})\"\n",
    "\n",
    "person = Person(\"Ashwani\", 30)\n",
    "print(repr(person))  # Output: Person(name='Ashwani', age=30)\n"
   ]
  },
  {
   "cell_type": "markdown",
   "metadata": {},
   "source": [
    "## 4. __len__ - Length of the Object\n",
    "The __len__ method is called when you use len() on an object. This can be helpful for creating classes that mimic containers."
   ]
  },
  {
   "cell_type": "code",
   "execution_count": 66,
   "metadata": {},
   "outputs": [
    {
     "name": "stdout",
     "output_type": "stream",
     "text": [
      "3\n"
     ]
    }
   ],
   "source": [
    "\n",
    "## 4. __len__ - Length of the Object\n",
    "class Group: # here we creating the group class\n",
    "    def __init__(self, members):\n",
    "        self.members = members\n",
    "\n",
    "    def __len__(self):\n",
    "        return len(self.members)\n",
    "\n",
    "group = Group([\"Alice\", \"Bob\", \"Charlie\"])\n",
    "print(len(group))  # Output: 3\n"
   ]
  },
  {
   "cell_type": "markdown",
   "metadata": {},
   "source": [
    "### 5. __add__ - Addition\n",
    "The __add__ method allows you to use the + operator with instances of the class. You can define custom behavior for what happens when two objects are added."
   ]
  },
  {
   "cell_type": "code",
   "execution_count": 67,
   "metadata": {},
   "outputs": [
    {
     "name": "stdout",
     "output_type": "stream",
     "text": [
      "Point(4, 6)\n"
     ]
    }
   ],
   "source": [
    "### 5. __add__ - Addition\n",
    "class Point:\n",
    "    def __init__(self, x, y):\n",
    "        self.x = x\n",
    "        self.y = y\n",
    "\n",
    "    def __add__(self, other):\n",
    "        return Point(self.x + other.x, self.y + other.y)\n",
    "\n",
    "    def __str__(self):\n",
    "        return f\"Point({self.x}, {self.y})\"\n",
    "\n",
    "p1 = Point(1, 2)\n",
    "p2 = Point(3, 4)\n",
    "print(p1 + p2)  # Output: Point(4, 6)\n"
   ]
  },
  {
   "cell_type": "markdown",
   "metadata": {},
   "source": [
    "## 6. __getitem__ and __setitem__ - Item Access\n",
    "These methods allow objects to support indexing and assignment, as if they were lists or dictionaries."
   ]
  },
  {
   "cell_type": "code",
   "execution_count": 68,
   "metadata": {},
   "outputs": [
    {
     "name": "stdout",
     "output_type": "stream",
     "text": [
      "2\n",
      "5\n"
     ]
    }
   ],
   "source": [
    "## 6. __getitem__ and __setitem__ - Item Access\n",
    "class CustomList:\n",
    "    def __init__(self, elements):\n",
    "        self.elements = elements\n",
    "\n",
    "    def __getitem__(self, index):\n",
    "        return self.elements[index]\n",
    "\n",
    "    def __setitem__(self, index, value):\n",
    "        self.elements[index] = value\n",
    "\n",
    "my_list = CustomList([1, 2, 3])\n",
    "print(my_list[1])  # Output: 2\n",
    "my_list[1] = 5\n",
    "print(my_list[1])  # Output: 5\n"
   ]
  },
  {
   "cell_type": "markdown",
   "metadata": {},
   "source": [
    "## 7. __call__ - Making an Object Callable\n",
    "The __call__ method allows an instance of the class to be called as if it were a function."
   ]
  },
  {
   "cell_type": "code",
   "execution_count": 71,
   "metadata": {},
   "outputs": [
    {
     "name": "stdout",
     "output_type": "stream",
     "text": [
      "4\n"
     ]
    }
   ],
   "source": [
    "## 7. __call__ - Making an Object Callable\n",
    "class Multiplier:\n",
    "    def __init__(self, factor):\n",
    "        self.factor = factor\n",
    "\n",
    "    def __call__(self, value):\n",
    "        return value * self.factor\n",
    "\n",
    "double = Multiplier(2)\n",
    "print(double(2))  # Output: 10\n"
   ]
  },
  {
   "cell_type": "code",
   "execution_count": null,
   "metadata": {},
   "outputs": [],
   "source": []
  }
 ],
 "metadata": {
  "kernelspec": {
   "display_name": "Python 3",
   "language": "python",
   "name": "python3"
  },
  "language_info": {
   "codemirror_mode": {
    "name": "ipython",
    "version": 3
   },
   "file_extension": ".py",
   "mimetype": "text/x-python",
   "name": "python",
   "nbconvert_exporter": "python",
   "pygments_lexer": "ipython3",
   "version": "3.11.7"
  }
 },
 "nbformat": 4,
 "nbformat_minor": 2
}

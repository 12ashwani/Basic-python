{
 "cells": [
  {
   "cell_type": "markdown",
   "metadata": {},
   "source": [
    "# Multithreading\n",
    "Multithreading is a programming concept where multiple threads (lightweight subprocesses) run concurrently within a single process. It enables a program to perform multiple tasks simultaneously, improving efficiency and responsiveness, especially for tasks that involve I/O operations or multiple cores of a CPU."
   ]
  },
  {
   "cell_type": "code",
   "execution_count": 4,
   "metadata": {},
   "outputs": [
    {
     "name": "stdout",
     "output_type": "stream",
     "text": [
      "Number: 1\n"
     ]
    },
    {
     "name": "stdout",
     "output_type": "stream",
     "text": [
      "Number: 2\n",
      "Number: 3\n",
      "Number: 4\n",
      "Number: 5\n",
      "Letter: a\n",
      "Letter: b\n",
      "Letter: c\n",
      "Letter: d\n",
      "Letter: e\n",
      "Execution time without threading: 10.02 seconds\n"
     ]
    }
   ],
   "source": [
    "## what is the multithreding\n",
    "## Wheen to use the multi threading\n",
    "### I/O bound task: Task that spend theat more time waiting for \n",
    "\n",
    "\n",
    "import threading\n",
    "import time\n",
    "\n",
    "import time\n",
    "\n",
    "def print_number():\n",
    "    for i in range(1, 6):\n",
    "        print(f'Number: {i}')\n",
    "        time.sleep(1)  # Simulate a delay\n",
    "\n",
    "def print_letter():\n",
    "    for letter in 'abcde':\n",
    "        print(f'Letter: {letter}')\n",
    "        time.sleep(1)  # Simulate a delay\n",
    "\n",
    "# Measure execution time\n",
    "start_time = time.time()\n",
    "print_number()\n",
    "print_letter()\n",
    "finished_time = time.time()\n",
    "\n",
    "print(f\"Execution time without threading: {finished_time - start_time:.2f} seconds\")\n",
    "\n",
    "\n"
   ]
  },
  {
   "cell_type": "code",
   "execution_count": 5,
   "metadata": {},
   "outputs": [
    {
     "name": "stdout",
     "output_type": "stream",
     "text": [
      "Number: 1\n",
      "Letter: a\n",
      "Number: 2\n",
      "Letter: b\n",
      "Number: 3\n",
      "Letter: c\n",
      "Letter: d\n",
      "Number: 4\n",
      "Letter: e\n",
      "Number: 5\n",
      "Execution time with threading: 5.03 seconds\n"
     ]
    }
   ],
   "source": [
    "import threading\n",
    "import time\n",
    "\n",
    "def print_number():\n",
    "    for i in range(1, 6):\n",
    "        print(f'Number: {i}')\n",
    "        time.sleep(1)  # Simulate a delay\n",
    "\n",
    "def print_letter():\n",
    "    for letter in 'abcde':\n",
    "        print(f'Letter: {letter}')\n",
    "        time.sleep(1)  # Simulate a delay\n",
    "\n",
    "# Measure execution time\n",
    "start_time = time.time()\n",
    "\n",
    "# Create threads\n",
    "thread1 = threading.Thread(target=print_number)\n",
    "thread2 = threading.Thread(target=print_letter)\n",
    "\n",
    "# Start threads\n",
    "thread1.start()\n",
    "thread2.start()\n",
    "\n",
    "# Wait for threads to complete\n",
    "thread1.join()\n",
    "thread2.join()\n",
    "\n",
    "finished_time = time.time()\n",
    "\n",
    "print(f\"Execution time with threading: {finished_time - start_time:.2f} seconds\")\n"
   ]
  },
  {
   "cell_type": "code",
   "execution_count": null,
   "metadata": {},
   "outputs": [],
   "source": []
  },
  {
   "cell_type": "code",
   "execution_count": null,
   "metadata": {},
   "outputs": [
    {
     "name": "stdout",
     "output_type": "stream",
     "text": [
      "Execution time: 1.07 seconds\n"
     ]
    }
   ],
   "source": [
    "from multiprocessing import Process\n",
    "import time\n",
    "\n",
    "def square_number():\n",
    "    for i in range(5):\n",
    "        time.sleep(1)  # Simulate a delay\n",
    "        print(f'Square: {i * i}')\n",
    "\n",
    "def cube_number():\n",
    "    for i in range(5):\n",
    "        time.sleep(1.5)  # Simulate a longer delay\n",
    "        print(f'Cube: {i ** 3}')\n",
    "\n",
    "if __name__ == '__main__':\n",
    "    # Create two processes\n",
    "    p1 = Process(target=square_number)\n",
    "    p2 = Process(target=cube_number)\n",
    "\n",
    "    # Measure execution time\n",
    "    start_time = time.time()\n",
    "\n",
    "    # Start the processes\n",
    "    p1.start()\n",
    "    p2.start()\n",
    "\n",
    "    # Wait for processes to complete\n",
    "    p1.join()\n",
    "    p2.join()\n",
    "\n",
    "    # Calculate elapsed time\n",
    "    finished_time = time.time() - start_time\n",
    "    print(f\"Execution time: {finished_time:.2f} seconds\")\n"
   ]
  },
  {
   "cell_type": "code",
   "execution_count": null,
   "metadata": {},
   "outputs": [],
   "source": []
  }
 ],
 "metadata": {
  "kernelspec": {
   "display_name": "Python 3",
   "language": "python",
   "name": "python3"
  },
  "language_info": {
   "codemirror_mode": {
    "name": "ipython",
    "version": 3
   },
   "file_extension": ".py",
   "mimetype": "text/x-python",
   "name": "python",
   "nbconvert_exporter": "python",
   "pygments_lexer": "ipython3",
   "version": "3.11.7"
  }
 },
 "nbformat": 4,
 "nbformat_minor": 2
}
